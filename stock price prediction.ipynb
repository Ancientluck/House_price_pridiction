{
 "cells": [
  {
   "cell_type": "code",
   "execution_count": 5,
   "metadata": {},
   "outputs": [],
   "source": [
    "import numpy as np\n",
    "import pandas as pd\n",
    "\n",
    "import yfinance as yf\n",
    "\n",
    "import seaborn as sns\n",
    "import matplotlib.pyplot as plt\n",
    "%matplotlib inline"
   ]
  },
  {
   "cell_type": "code",
   "execution_count": 7,
   "metadata": {},
   "outputs": [
    {
     "name": "stdout",
     "output_type": "stream",
     "text": [
      "[*********************100%%**********************]  1 of 1 completed\n"
     ]
    },
    {
     "data": {
      "text/html": [
       "<div>\n",
       "<style scoped>\n",
       "    .dataframe tbody tr th:only-of-type {\n",
       "        vertical-align: middle;\n",
       "    }\n",
       "\n",
       "    .dataframe tbody tr th {\n",
       "        vertical-align: top;\n",
       "    }\n",
       "\n",
       "    .dataframe thead th {\n",
       "        text-align: right;\n",
       "    }\n",
       "</style>\n",
       "<table border=\"1\" class=\"dataframe\">\n",
       "  <thead>\n",
       "    <tr style=\"text-align: right;\">\n",
       "      <th></th>\n",
       "      <th>Open</th>\n",
       "      <th>High</th>\n",
       "      <th>Low</th>\n",
       "      <th>Close</th>\n",
       "      <th>Adj Close</th>\n",
       "      <th>Volume</th>\n",
       "    </tr>\n",
       "    <tr>\n",
       "      <th>Date</th>\n",
       "      <th></th>\n",
       "      <th></th>\n",
       "      <th></th>\n",
       "      <th></th>\n",
       "      <th></th>\n",
       "      <th></th>\n",
       "    </tr>\n",
       "  </thead>\n",
       "  <tbody>\n",
       "    <tr>\n",
       "      <th>2008-01-02</th>\n",
       "      <td>7.572</td>\n",
       "      <td>7.876</td>\n",
       "      <td>7.564</td>\n",
       "      <td>7.850</td>\n",
       "      <td>7.850</td>\n",
       "      <td>68553</td>\n",
       "    </tr>\n",
       "    <tr>\n",
       "      <th>2008-01-03</th>\n",
       "      <td>7.873</td>\n",
       "      <td>7.980</td>\n",
       "      <td>7.610</td>\n",
       "      <td>7.674</td>\n",
       "      <td>7.674</td>\n",
       "      <td>72742</td>\n",
       "    </tr>\n",
       "    <tr>\n",
       "      <th>2008-01-04</th>\n",
       "      <td>7.652</td>\n",
       "      <td>7.859</td>\n",
       "      <td>7.500</td>\n",
       "      <td>7.841</td>\n",
       "      <td>7.841</td>\n",
       "      <td>61496</td>\n",
       "    </tr>\n",
       "    <tr>\n",
       "      <th>2008-01-07</th>\n",
       "      <td>7.803</td>\n",
       "      <td>7.940</td>\n",
       "      <td>7.701</td>\n",
       "      <td>7.879</td>\n",
       "      <td>7.879</td>\n",
       "      <td>56675</td>\n",
       "    </tr>\n",
       "    <tr>\n",
       "      <th>2008-01-08</th>\n",
       "      <td>7.909</td>\n",
       "      <td>7.997</td>\n",
       "      <td>7.880</td>\n",
       "      <td>7.967</td>\n",
       "      <td>7.967</td>\n",
       "      <td>53775</td>\n",
       "    </tr>\n",
       "  </tbody>\n",
       "</table>\n",
       "</div>"
      ],
      "text/plain": [
       "             Open   High    Low  Close  Adj Close  Volume\n",
       "Date                                                     \n",
       "2008-01-02  7.572  7.876  7.564  7.850      7.850   68553\n",
       "2008-01-03  7.873  7.980  7.610  7.674      7.674   72742\n",
       "2008-01-04  7.652  7.859  7.500  7.841      7.841   61496\n",
       "2008-01-07  7.803  7.940  7.701  7.879      7.879   56675\n",
       "2008-01-08  7.909  7.997  7.880  7.967      7.967   53775"
      ]
     },
     "execution_count": 7,
     "metadata": {},
     "output_type": "execute_result"
    }
   ],
   "source": [
    "stocks=input(\"Enter the code of the stocks:-\")\n",
    "data=yf.download(stocks,\"2008-01-01\",\"2023-01-01\")\n",
    "data.head()"
   ]
  },
  {
   "cell_type": "code",
   "execution_count": 8,
   "metadata": {},
   "outputs": [
    {
     "data": {
      "text/plain": [
       "(3775, 6)"
      ]
     },
     "execution_count": 8,
     "metadata": {},
     "output_type": "execute_result"
    }
   ],
   "source": [
    "data.shape"
   ]
  },
  {
   "cell_type": "code",
   "execution_count": 9,
   "metadata": {},
   "outputs": [
    {
     "data": {
      "text/plain": [
       "<bound method DataFrame.info of              Open   High    Low  Close  Adj Close  Volume\n",
       "Date                                                     \n",
       "2008-01-02  7.572  7.876  7.564  7.850      7.850   68553\n",
       "2008-01-03  7.873  7.980  7.610  7.674      7.674   72742\n",
       "2008-01-04  7.652  7.859  7.500  7.841      7.841   61496\n",
       "2008-01-07  7.803  7.940  7.701  7.879      7.879   56675\n",
       "2008-01-08  7.909  7.997  7.880  7.967      7.967   53775\n",
       "...           ...    ...    ...    ...        ...     ...\n",
       "2022-12-23  5.093  5.245  4.825  5.079      5.079   42105\n",
       "2022-12-27  5.283  5.367  5.081  5.282      5.282   41154\n",
       "2022-12-28  5.183  5.183  4.588  4.709      4.709  115022\n",
       "2022-12-29  4.767  4.790  4.422  4.559      4.559   78441\n",
       "2022-12-30  4.558  4.615  4.378  4.475      4.475   62281\n",
       "\n",
       "[3775 rows x 6 columns]>"
      ]
     },
     "execution_count": 9,
     "metadata": {},
     "output_type": "execute_result"
    }
   ],
   "source": [
    "data.info"
   ]
  },
  {
   "cell_type": "code",
   "execution_count": 10,
   "metadata": {},
   "outputs": [
    {
     "data": {
      "text/plain": [
       "<bound method NDFrame.describe of              Open   High    Low  Close  Adj Close  Volume\n",
       "Date                                                     \n",
       "2008-01-02  7.572  7.876  7.564  7.850      7.850   68553\n",
       "2008-01-03  7.873  7.980  7.610  7.674      7.674   72742\n",
       "2008-01-04  7.652  7.859  7.500  7.841      7.841   61496\n",
       "2008-01-07  7.803  7.940  7.701  7.879      7.879   56675\n",
       "2008-01-08  7.909  7.997  7.880  7.967      7.967   53775\n",
       "...           ...    ...    ...    ...        ...     ...\n",
       "2022-12-23  5.093  5.245  4.825  5.079      5.079   42105\n",
       "2022-12-27  5.283  5.367  5.081  5.282      5.282   41154\n",
       "2022-12-28  5.183  5.183  4.588  4.709      4.709  115022\n",
       "2022-12-29  4.767  4.790  4.422  4.559      4.559   78441\n",
       "2022-12-30  4.558  4.615  4.378  4.475      4.475   62281\n",
       "\n",
       "[3775 rows x 6 columns]>"
      ]
     },
     "execution_count": 10,
     "metadata": {},
     "output_type": "execute_result"
    }
   ],
   "source": [
    "data.describe"
   ]
  },
  {
   "cell_type": "code",
   "execution_count": 11,
   "metadata": {},
   "outputs": [
    {
     "data": {
      "text/plain": [
       "<function matplotlib.pyplot.show(close=None, block=None)>"
      ]
     },
     "execution_count": 11,
     "metadata": {},
     "output_type": "execute_result"
    },
    {
     "data": {
      "image/png": "[encoded data removed]",
      "text/plain": [
       "<Figure size 1000x700 with 1 Axes>"
      ]
     },
     "metadata": {},
     "output_type": "display_data"
    }
   ],
   "source": [
    "data.Close.plot(figsize=(10,7),color='r')\n",
    "plt.ylabel('{} Prices'.format(stocks))\n",
    "plt.title('{} Price Series'.format(stocks))\n",
    "plt.show"
   ]
  },
  {
   "cell_type": "code",
   "execution_count": 12,
   "metadata": {},
   "outputs": [
    {
     "name": "stdout",
     "output_type": "stream",
     "text": [
      "             Open   High    Low  Adj Close  Volume\n",
      "Date                                              \n",
      "2010-06-30  4.562  4.627  4.477      4.616   92607\n",
      "2011-10-10  3.486  3.563  3.455      3.541  139114\n",
      "2009-04-24  3.380  3.433  3.260      3.297   48822\n",
      "2015-11-27  2.289  2.305  2.205      2.212   68463\n",
      "2018-03-26  2.588  2.642  2.565      2.618   52520\n",
      "...           ...    ...    ...        ...     ...\n",
      "2011-04-26  4.377  4.409  4.333      4.387   82201\n",
      "2020-12-21  2.730  2.730  2.632      2.705  104274\n",
      "2014-07-28  3.736  3.850  3.728      3.747   52286\n",
      "2018-05-14  2.825  2.847  2.798      2.842  130605\n",
      "2018-11-08  3.530  3.568  3.493      3.543  166771\n",
      "\n",
      "[3020 rows x 5 columns]\n",
      "             Open   High    Low  Adj Close  Volume\n",
      "Date                                              \n",
      "2009-12-28  5.752  6.006  5.752      5.990   62352\n",
      "2022-11-15  6.065  6.203  5.841      6.034   76925\n",
      "2017-11-15  3.078  3.153  3.052      3.080  192702\n",
      "2015-11-05  2.266  2.383  2.249      2.364  174266\n",
      "2011-12-02  3.644  3.663  3.568      3.584   84298\n",
      "...           ...    ...    ...        ...     ...\n",
      "2019-07-29  2.175  2.182  2.120      2.141  157689\n",
      "2014-02-13  4.828  5.239  4.818      5.223  240237\n",
      "2010-03-08  4.537  4.575  4.458      4.527   68080\n",
      "2020-11-02  3.374  3.393  3.214      3.244  156206\n",
      "2008-12-19  5.559  5.703  5.267      5.334   47359\n",
      "\n",
      "[755 rows x 5 columns]\n",
      "Date\n",
      "2010-06-30    4.616\n",
      "2011-10-10    3.541\n",
      "2009-04-24    3.297\n",
      "2015-11-27    2.212\n",
      "2018-03-26    2.618\n",
      "              ...  \n",
      "2011-04-26    4.387\n",
      "2020-12-21    2.705\n",
      "2014-07-28    3.747\n",
      "2018-05-14    2.842\n",
      "2018-11-08    3.543\n",
      "Name: Close, Length: 3020, dtype: float64\n",
      "Date\n",
      "2009-12-28    5.990\n",
      "2022-11-15    6.034\n",
      "2017-11-15    3.080\n",
      "2015-11-05    2.364\n",
      "2011-12-02    3.584\n",
      "              ...  \n",
      "2019-07-29    2.141\n",
      "2014-02-13    5.223\n",
      "2010-03-08    4.527\n",
      "2020-11-02    3.244\n",
      "2008-12-19    5.334\n",
      "Name: Close, Length: 755, dtype: float64\n"
     ]
    }
   ],
   "source": [
    "x=data.drop(\"Close\",axis=1)\n",
    "y=data[\"Close\"]\n",
    "\n",
    "from sklearn.model_selection import train_test_split\n",
    "x_train,x_test,y_train,y_test =train_test_split(x,y,test_size=0.2,random_state=0)\n",
    "print(x_train)\n",
    "print(x_test)\n",
    "print(y_train)\n",
    "print(y_test)"
   ]
  },
  {
   "cell_type": "code",
   "execution_count": 13,
   "metadata": {},
   "outputs": [],
   "source": [
    "from sklearn.linear_model import LinearRegression\n",
    "lr=LinearRegression()\n",
    "lr.fit(x_train,y_train)\n",
    "pred1=lr.predict(x_test)"
   ]
  },
  {
   "cell_type": "code",
   "execution_count": 14,
   "metadata": {},
   "outputs": [
    {
     "data": {
      "text/plain": [
       "array([ 5.98999977,  6.03399992,  3.07999992,  2.36400008,  3.58400011,\n",
       "        1.64600003,  4.37799978,  2.74699998,  2.75900006,  3.81900001,\n",
       "        4.34100008,  2.94499993,  3.74699998,  2.78600001,  3.84699988,\n",
       "        2.5309999 ,  2.92700005,  2.23200011,  2.93899989,  1.68099999,\n",
       "        3.37299991,  2.3210001 ,  3.59599996,  2.69000006,  4.02400017,\n",
       "        6.77899981,  3.95099998,  2.00300002,  2.24300003,  3.35400009,\n",
       "        5.90999985,  6.83699989,  3.16799998,  3.63100004,  9.76900005,\n",
       "        2.77399993,  2.55200005,  1.73399997,  4.7249999 ,  4.6789999 ,\n",
       "        4.7670002 ,  9.08399963,  2.12599993,  2.10500002,  3.9230001 ,\n",
       "        2.10100007,  4.61800003,  5.16300011,  4.89499998,  2.53500009,\n",
       "        2.65100002,  2.58200002,  4.64300013,  2.59500003,  3.91899991,\n",
       "        2.9460001 ,  5.28000021,  2.273     ,  4.26200008,  6.03399992,\n",
       "        4.82399988,  3.56100011,  2.06699991,  2.46199989,  5.69099998,\n",
       "        2.51099992,  4.00699997,  3.25600004,  1.58700001,  3.39899993,\n",
       "        4.36299992,  2.93300009,  2.54299998,  2.66199994,  3.83699989,\n",
       "        2.83599997,  1.79400003,  2.56299996,  8.96500015,  3.67000008,\n",
       "        2.75699997,  3.60500002,  3.59100008,  3.8900001 ,  3.        ,\n",
       "        8.41499996,  3.30599999,  2.727     ,  2.60500002,  2.79999995,\n",
       "        2.74799991,  3.04399991,  2.85500002,  2.59699988,  4.36999989,\n",
       "        4.03900003,  3.40300012,  3.12899995,  3.49699998,  4.56099987,\n",
       "        4.14599991,  2.64199996,  4.79099989,  2.9460001 ,  4.34200001,\n",
       "        3.58400011,  3.19199991,  2.34100008,  2.72600007,  5.64300013,\n",
       "        3.47399998,  4.73000002,  2.85899997,  1.86199999,  3.83999991,\n",
       "        2.58500004,  4.97900009,  2.96499991,  3.98799992,  3.73000002,\n",
       "        4.08599997,  2.69700003,  3.58100009,  2.85400009, 11.26299953,\n",
       "        3.90899992,  3.06999993,  5.97100019,  3.63100004,  2.57299995,\n",
       "        9.44299984,  2.68899989,  4.78100014,  2.37800002,  3.01099992,\n",
       "        2.98000002,  2.95799994,  2.85500002,  2.49499989,  2.73699999,\n",
       "        2.75500011,  1.65900004,  3.21499991,  3.23600006,  5.16300011,\n",
       "        5.8210001 ,  3.70600009,  3.80900002, 12.86100006,  2.13400006,\n",
       "        2.62599993,  4.75699997,  2.602     ,  1.90499997,  4.62900019,\n",
       "        2.02900004,  1.82700002,  2.71600008,  6.83500004,  5.51499987,\n",
       "        6.74300003,  3.20900011,  2.80599999,  5.19199991,  3.92499995,\n",
       "        4.89799976,  4.87300014,  2.66199994,  3.23799992,  2.83999991,\n",
       "        3.98399997,  4.71899986,  5.11499977,  2.71000004,  2.74000001,\n",
       "        7.67399979,  3.28500009,  3.69000006,  5.86499977,  4.0079999 ,\n",
       "        3.65799999,  5.78200006,  2.30299997,  3.53399992,  2.77800012,\n",
       "        3.0079999 ,  5.18599987,  2.74699998,  2.296     ,  3.18899989,\n",
       "        2.93300009,  1.97000003,  2.8900001 ,  2.98099995,  3.76600003,\n",
       "        1.66400003,  6.20200014,  2.88599992,  2.31200004,  2.82599998,\n",
       "        7.24900007,  2.58200002,  4.42000008,  4.171     ,  8.20199966,\n",
       "        2.27900004,  3.60400009,  3.87199998,  4.0619998 ,  3.10500002,\n",
       "        2.78200006,  2.50999999,  3.8499999 ,  2.71300006,  3.41499996,\n",
       "        4.25699997,  3.6960001 ,  1.81900001,  2.95799994,  4.35699987,\n",
       "        2.546     ,  3.66599989,  8.08300018,  2.9519999 ,  7.72399998,\n",
       "        1.64999998,  4.78100014,  4.27699995,  2.57299995,  4.08799982,\n",
       "        4.46700001,  2.94000006,  2.18199992,  5.51000023,  4.04099989,\n",
       "        7.71700001,  3.56599998,  3.88899994,  1.89300001,  2.56599998,\n",
       "        8.85000038,  4.08199978,  3.23300004,  2.55699992,  4.02699995,\n",
       "        9.32999992,  3.15799999,  3.43499994,  1.82599998,  2.94899988,\n",
       "        3.74699998,  2.41599989,  5.61499977,  2.33999991,  3.12700009,\n",
       "        2.352     ,  2.45000005,  4.56799984,  2.15199995,  2.79200006,\n",
       "        3.01600003,  1.84099996,  2.18600011,  8.29899979,  8.72599983,\n",
       "       11.47700024,  3.46000004,  2.46099997,  5.81400013,  4.9000001 ,\n",
       "        2.88899994,  4.40199995,  1.89499998,  2.70000005,  2.85400009,\n",
       "        3.09599996,  3.44400001,  3.70000005,  2.2750001 ,  3.31500006,\n",
       "        3.41499996,  3.7190001 ,  2.83899999,  8.6960001 ,  1.72399998,\n",
       "        2.64299989,  7.91499996,  4.26900005,  3.26600003,  3.95700002,\n",
       "        2.76900005,  5.46799994,  3.22399998,  4.52699995,  2.7750001 ,\n",
       "        6.53499985,  3.03299999,  4.67000008,  2.93799996,  7.72800016,\n",
       "       12.99400043,  3.41799998,  5.48500013,  2.66799998,  5.50500011,\n",
       "        2.55900002,  3.65300012,  6.88800001,  3.81599998,  2.93899989,\n",
       "        1.903     ,  2.51999998,  3.24399996,  5.01100016,  3.63700008,\n",
       "        3.71099997,  4.98500013,  8.72700024,  2.89299989,  2.95000005,\n",
       "        2.51900005,  2.70799994,  2.73300004,  3.31500006,  4.14699984,\n",
       "        4.1079998 ,  3.54200006,  2.29900002,  6.48000002,  9.29599953,\n",
       "        2.29999995,  4.01499987,  5.71600008,  3.61500001,  4.24800014,\n",
       "        1.90699995,  4.81599998,  7.65799999,  3.17000008,  3.49399996,\n",
       "        2.89700007,  3.3269999 ,  9.68000031,  4.23699999,  2.94899988,\n",
       "        6.87799978,  7.954     ,  7.86899996,  4.78700018,  6.19999981,\n",
       "        3.8499999 ,  4.6420002 ,  3.954     ,  2.05500007,  4.546     ,\n",
       "        2.45300007,  3.64199996,  3.68400002,  1.81900001,  2.58400011,\n",
       "        2.58400011,  2.727     ,  2.98000002,  1.84099996,  3.57399988,\n",
       "        4.57700014,  4.06799984,  4.38800001,  2.97399998,  2.69700003,\n",
       "        3.0710001 ,  4.3579998 ,  7.46400023,  3.21499991,  4.59499979,\n",
       "        3.852     ,  3.88100004,  4.84800005,  3.796     ,  3.53999996,\n",
       "        2.81299996,  3.99799991,  7.84200001,  1.90199995,  1.60399997,\n",
       "       13.35299969,  2.68099999,  3.83599997,  4.13899994,  6.74100018,\n",
       "        2.88199997,  2.28299999,  4.21000004,  1.91100001,  2.82800007,\n",
       "        3.19499993,  2.84500003,  2.59100008,  1.829     ,  4.079     ,\n",
       "        6.73799992,  4.37699986,  2.94400001,  4.55900002,  2.30299997,\n",
       "        2.36199999,  2.17199993,  4.74800014,  1.829     ,  2.75200009,\n",
       "       11.59799957,  2.72799993,  6.95699978,  4.45900011,  1.66900003,\n",
       "        2.95600009,  3.56999993,  8.77200031,  3.9849999 ,  2.84599996,\n",
       "        1.63399994,  3.352     ,  4.79400015,  4.02400017,  7.18900013,\n",
       "        2.62100005,  4.83500004,  3.53900003,  4.3119998 ,  4.1079998 ,\n",
       "        3.93300009,  2.83400011,  3.53800011,  4.98999977,  2.53699994,\n",
       "        2.78699994,  4.34700012,  5.44700003, 10.22999954,  3.91100001,\n",
       "        2.21399999,  8.13399982,  4.        ,  4.15100002,  2.6500001 ,\n",
       "        4.40899992,  2.43099999,  4.32299995,  3.35400009,  7.23500013,\n",
       "        3.44499993,  2.59500003,  3.04299998,  2.5309999 ,  2.96399999,\n",
       "        4.15799999,  2.94799995,  3.95499992,  3.94499993,  4.82700014,\n",
       "        5.09600019,  3.03699994,  2.72600007,  4.72200012,  2.98200011,\n",
       "        9.32199955,  4.58599997,  3.93799996,  1.95899999,  2.38499999,\n",
       "        5.60500002,  5.079     ,  6.8579998 ,  4.98699999,  2.67700005,\n",
       "        4.43100023,  5.30999994,  3.81699991,  3.86899996,  4.78900003,\n",
       "        1.82700002,  2.53600001,  2.41499996,  4.079     ,  3.24300003,\n",
       "        3.62899995,  3.87299991,  3.5539999 ,  5.28999996,  2.72099996,\n",
       "        3.04299998,  4.23699999,  2.8039999 ,  5.41900015,  2.67600012,\n",
       "        2.67499995,  4.22700024,  8.13300037,  7.62099981,  3.65899992,\n",
       "        3.61899996,  3.87299991,  7.96700001,  7.32200003,  3.0940001 ,\n",
       "        2.6329999 ,  2.91899991,  4.01900005,  3.74300003,  4.39499998,\n",
       "        1.66600001,  2.69199991,  3.87700009,  4.61399984,  4.31099987,\n",
       "        3.34200001,  4.57499981,  4.30600023,  6.26800013,  4.60900021,\n",
       "        7.76399994,  5.46899986,  8.28299999,  3.28500009,  5.85099983,\n",
       "        5.57700014,  4.07700014,  1.98300004,  2.92799997,  4.13999987,\n",
       "        3.05599999,  2.52800012,  2.61500001,  3.93300009,  9.69699955,\n",
       "        7.4380002 ,  6.40500021,  3.4289999 ,  6.70499992,  3.74099994,\n",
       "        4.08300018,  5.62200022,  3.92499995,  3.33100009,  4.3920002 ,\n",
       "        7.80200005,  2.35599995,  2.58599997,  3.14599991,  3.77099991,\n",
       "        3.51300001,  8.32400036,  2.61899996,  3.9059999 ,  6.0170002 ,\n",
       "        2.94199991,  9.18599987,  4.64599991,  3.99300003,  2.79399991,\n",
       "        1.86899996,  5.8670001 ,  2.74699998,  3.28399992,  2.20600009,\n",
       "        3.52900004,  3.06299996,  7.37400007,  2.63800001,  9.32199955,\n",
       "        3.03699994,  2.0150001 ,  2.28200006,  4.24399996,  4.03100014,\n",
       "        2.91799998,  3.48900008,  3.44400001,  2.77600002,  2.08800006,\n",
       "        2.14299989,  2.93799996,  4.28700018,  4.35099983,  2.83100009,\n",
       "        4.2670002 ,  2.33699989,  3.3269999 ,  3.12700009,  2.18600011,\n",
       "        2.89299989,  7.3579998 ,  3.54500008,  2.25300002,  3.93499994,\n",
       "        2.977     ,  3.21300006,  3.37299991,  2.37199998,  3.86899996,\n",
       "        3.28900003,  3.86100006,  4.35500002,  2.81599998,  5.375     ,\n",
       "        5.17700005,  4.05499983,  1.98399997,  4.80100012,  4.51100016,\n",
       "        3.82999992, 10.20499992,  2.87599993,  3.8269999 ,  1.67799997,\n",
       "        7.26399994,  7.58900023,  3.58200002,  2.94099998,  3.81800008,\n",
       "        4.36999989,  2.88499999,  2.70300007,  4.26599979,  7.97599983,\n",
       "        6.80800009,  2.43799996,  3.83699989,  4.39099979,  2.41799998,\n",
       "        3.58599997,  3.90300012,  2.87700009,  4.39900017,  3.22799993,\n",
       "        3.80100012,  3.15300012,  3.91400003,  2.96099997,  2.5       ,\n",
       "        3.7980001 ,  2.93499994,  2.94499993,  8.13599968,  6.82499981,\n",
       "        5.00600004,  4.24700022,  2.1730001 ,  8.09899998,  2.77399993,\n",
       "        3.09299994,  1.95099998,  3.18499994,  2.57999992,  3.78900003,\n",
       "        1.995     ,  4.03200006, 11.96899986,  3.79299998,  2.95099998,\n",
       "        2.56900001,  6.88800001,  2.421     ,  3.5539999 ,  2.47199988,\n",
       "        5.14900017,  2.29399991,  2.86400008,  2.76399994,  2.9230001 ,\n",
       "        2.62299991,  4.09800005,  2.8829999 ,  3.05699992,  1.80400002,\n",
       "        3.30100012,  3.73099995,  2.96700001,  4.15100002,  8.2840004 ,\n",
       "        2.10100007,  2.95300007,  3.62199998,  5.72200012,  2.45499992,\n",
       "        3.53699994,  2.18000007,  3.102     ,  2.85400009,  3.8269999 ,\n",
       "        9.57199955,  3.296     ,  4.03800011,  3.96600008,  3.76799989,\n",
       "        3.06999993,  2.74000001,  9.33600044,  5.32600021,  2.90499997,\n",
       "        3.05599999,  5.23099995,  6.78299999,  3.16100001,  2.54999995,\n",
       "        3.31999993,  2.38100004,  2.93799996,  2.9230001 ,  1.93900001,\n",
       "        3.68899989,  2.88199997,  2.61400008,  3.81399989,  3.77699995,\n",
       "        3.60800004,  3.54099989,  3.61400008,  3.06299996,  2.90199995,\n",
       "        4.41200018,  3.06599998,  3.02800012,  2.75399995,  2.77200007,\n",
       "        2.85599995,  3.88700008,  4.76200008,  3.99099994,  7.24399996,\n",
       "        4.08799982,  2.58599997, 10.51000023,  9.86800003,  4.17399979,\n",
       "        2.26900005,  4.08500004,  4.13899994,  2.42499995,  2.23799992,\n",
       "        2.77999997,  1.92700005,  2.69400001,  3.83500004,  2.75200009,\n",
       "        5.0619998 ,  2.68199992,  2.67700005,  5.33500004,  1.63999999,\n",
       "        2.14100003,  5.22300005,  4.52699995,  3.24399996,  5.33400011])"
      ]
     },
     "execution_count": 14,
     "metadata": {},
     "output_type": "execute_result"
    }
   ],
   "source": [
    "pred1"
   ]
  },
  {
   "cell_type": "code",
   "execution_count": 15,
   "metadata": {},
   "outputs": [
    {
     "name": "stdout",
     "output_type": "stream",
     "text": [
      "Mean Square Error is:-  1.3360025521079528e-29\n",
      "Root Mean Square Error is:-  3.6551368676260985e-15\n",
      "R2-Scores are:-  1.0\n"
     ]
    }
   ],
   "source": [
    "from sklearn.metrics import mean_squared_error,r2_score\n",
    "\n",
    "def calculate_metrics(y_test,y_pred):\n",
    "    mse=mean_squared_error(y_test,y_pred)\n",
    "    rmse=np.sqrt(mse)\n",
    "    r2_scors=r2_score(y_test,y_pred)\n",
    "    print(\"Mean Square Error is:- \",mse)\n",
    "    print(\"Root Mean Square Error is:- \",rmse)\n",
    "    print(\"R2-Scores are:- \",r2_scors)\n",
    "\n",
    "calculate_metrics(y_test,pred1)"
   ]
  },
  {
   "cell_type": "code",
   "execution_count": 16,
   "metadata": {},
   "outputs": [],
   "source": [
    "from sklearn.linear_model import Lasso,Ridge\n",
    "la=Lasso().fit(x_train,y_train)\n",
    "ri=Ridge().fit(x_train,y_train)\n",
    "\n",
    "lap=la.predict(x_test)\n",
    "rip=ri.predict(x_test)"
   ]
  },
  {
   "cell_type": "code",
   "execution_count": 17,
   "metadata": {},
   "outputs": [
    {
     "name": "stdout",
     "output_type": "stream",
     "text": [
      "Mean Square Error is:-  0.2730329989449792\n",
      "Root Mean Square Error is:-  0.5225255964495703\n",
      "R2-Scores are:-  0.923006001859684\n"
     ]
    }
   ],
   "source": [
    "calculate_metrics(y_test,lap)"
   ]
  },
  {
   "cell_type": "code",
   "execution_count": 18,
   "metadata": {},
   "outputs": [
    {
     "name": "stdout",
     "output_type": "stream",
     "text": [
      "Mean Square Error is:-  2.263692002638458e-05\n",
      "Root Mean Square Error is:-  0.004757827237971612\n",
      "R2-Scores are:-  0.9999936164969614\n"
     ]
    }
   ],
   "source": [
    "calculate_metrics(y_test,rip)"
   ]
  },
  {
   "cell_type": "code",
   "execution_count": 20,
   "metadata": {},
   "outputs": [
    {
     "name": "stdout",
     "output_type": "stream",
     "text": [
      "Fitting 5 folds for each of 25 candidates, totalling 125 fits\n",
      "[CV 1/5] END .......C=0.1, gamma=1, kernel=rbf;, score=-0.078 total time=   0.7s\n",
      "[CV 2/5] END .......C=0.1, gamma=1, kernel=rbf;, score=-0.083 total time=   1.1s\n",
      "[CV 3/5] END .......C=0.1, gamma=1, kernel=rbf;, score=-0.048 total time=   0.7s\n",
      "[CV 4/5] END .......C=0.1, gamma=1, kernel=rbf;, score=-0.059 total time=   0.7s\n",
      "[CV 5/5] END .......C=0.1, gamma=1, kernel=rbf;, score=-0.051 total time=   0.7s\n",
      "[CV 1/5] END .....C=0.1, gamma=0.1, kernel=rbf;, score=-0.077 total time=   0.7s\n",
      "[CV 2/5] END .....C=0.1, gamma=0.1, kernel=rbf;, score=-0.082 total time=   0.7s\n",
      "[CV 3/5] END .....C=0.1, gamma=0.1, kernel=rbf;, score=-0.048 total time=   0.7s\n",
      "[CV 4/5] END .....C=0.1, gamma=0.1, kernel=rbf;, score=-0.059 total time=   0.7s\n",
      "[CV 5/5] END .....C=0.1, gamma=0.1, kernel=rbf;, score=-0.050 total time=   0.7s\n",
      "[CV 1/5] END ....C=0.1, gamma=0.01, kernel=rbf;, score=-0.075 total time=   0.7s\n",
      "[CV 2/5] END ....C=0.1, gamma=0.01, kernel=rbf;, score=-0.082 total time=   0.6s\n",
      "[CV 3/5] END ....C=0.1, gamma=0.01, kernel=rbf;, score=-0.047 total time=   0.5s\n",
      "[CV 4/5] END ....C=0.1, gamma=0.01, kernel=rbf;, score=-0.056 total time=   0.5s\n",
      "[CV 5/5] END ....C=0.1, gamma=0.01, kernel=rbf;, score=-0.049 total time=   0.5s\n",
      "[CV 1/5] END ...C=0.1, gamma=0.001, kernel=rbf;, score=-0.071 total time=   0.5s\n",
      "[CV 2/5] END ...C=0.1, gamma=0.001, kernel=rbf;, score=-0.080 total time=   0.5s\n",
      "[CV 3/5] END ...C=0.1, gamma=0.001, kernel=rbf;, score=-0.042 total time=   0.5s\n",
      "[CV 4/5] END ...C=0.1, gamma=0.001, kernel=rbf;, score=-0.048 total time=   0.8s\n",
      "[CV 5/5] END ...C=0.1, gamma=0.001, kernel=rbf;, score=-0.048 total time=   0.5s\n",
      "[CV 1/5] END ..C=0.1, gamma=0.0001, kernel=rbf;, score=-0.065 total time=   0.5s\n",
      "[CV 2/5] END ..C=0.1, gamma=0.0001, kernel=rbf;, score=-0.069 total time=   0.5s\n",
      "[CV 3/5] END ..C=0.1, gamma=0.0001, kernel=rbf;, score=-0.028 total time=   0.5s\n",
      "[CV 4/5] END ..C=0.1, gamma=0.0001, kernel=rbf;, score=-0.033 total time=   0.5s\n",
      "[CV 5/5] END ..C=0.1, gamma=0.0001, kernel=rbf;, score=-0.041 total time=   0.5s\n",
      "[CV 1/5] END .........C=1, gamma=1, kernel=rbf;, score=-0.053 total time=   0.5s\n",
      "[CV 2/5] END .........C=1, gamma=1, kernel=rbf;, score=-0.064 total time=   0.6s\n",
      "[CV 3/5] END .........C=1, gamma=1, kernel=rbf;, score=-0.034 total time=   0.6s\n",
      "[CV 4/5] END .........C=1, gamma=1, kernel=rbf;, score=-0.042 total time=   0.5s\n",
      "[CV 5/5] END .........C=1, gamma=1, kernel=rbf;, score=-0.033 total time=   0.5s\n",
      "[CV 1/5] END .......C=1, gamma=0.1, kernel=rbf;, score=-0.050 total time=   0.5s\n",
      "[CV 2/5] END .......C=1, gamma=0.1, kernel=rbf;, score=-0.061 total time=   0.5s\n",
      "[CV 3/5] END .......C=1, gamma=0.1, kernel=rbf;, score=-0.033 total time=   0.8s\n",
      "[CV 4/5] END .......C=1, gamma=0.1, kernel=rbf;, score=-0.039 total time=   0.5s\n",
      "[CV 5/5] END .......C=1, gamma=0.1, kernel=rbf;, score=-0.031 total time=   0.5s\n",
      "[CV 1/5] END ......C=1, gamma=0.01, kernel=rbf;, score=-0.045 total time=   0.6s\n",
      "[CV 2/5] END ......C=1, gamma=0.01, kernel=rbf;, score=-0.060 total time=   0.5s\n",
      "[CV 3/5] END ......C=1, gamma=0.01, kernel=rbf;, score=-0.030 total time=   0.5s\n",
      "[CV 4/5] END ......C=1, gamma=0.01, kernel=rbf;, score=-0.024 total time=   0.5s\n",
      "[CV 5/5] END ......C=1, gamma=0.01, kernel=rbf;, score=-0.039 total time=   0.5s\n",
      "[CV 1/5] END .....C=1, gamma=0.001, kernel=rbf;, score=-0.050 total time=   0.5s\n",
      "[CV 2/5] END .....C=1, gamma=0.001, kernel=rbf;, score=-0.052 total time=   0.5s\n",
      "[CV 3/5] END .....C=1, gamma=0.001, kernel=rbf;, score=-0.026 total time=   0.5s\n",
      "[CV 4/5] END .....C=1, gamma=0.001, kernel=rbf;, score=-0.003 total time=   0.5s\n",
      "[CV 5/5] END .....C=1, gamma=0.001, kernel=rbf;, score=-0.059 total time=   0.5s\n",
      "[CV 1/5] END ....C=1, gamma=0.0001, kernel=rbf;, score=-0.045 total time=   0.5s\n",
      "[CV 2/5] END ....C=1, gamma=0.0001, kernel=rbf;, score=-0.053 total time=   0.5s\n",
      "[CV 3/5] END .....C=1, gamma=0.0001, kernel=rbf;, score=0.009 total time=   0.5s\n",
      "[CV 4/5] END ....C=1, gamma=0.0001, kernel=rbf;, score=-0.008 total time=   0.5s\n",
      "[CV 5/5] END ....C=1, gamma=0.0001, kernel=rbf;, score=-0.060 total time=   0.5s\n",
      "[CV 1/5] END .........C=10, gamma=1, kernel=rbf;, score=0.001 total time=   0.6s\n",
      "[CV 2/5] END .........C=10, gamma=1, kernel=rbf;, score=0.000 total time=   0.6s\n",
      "[CV 3/5] END ........C=10, gamma=1, kernel=rbf;, score=-0.000 total time=   0.6s\n",
      "[CV 4/5] END .........C=10, gamma=1, kernel=rbf;, score=0.001 total time=   0.6s\n",
      "[CV 5/5] END ........C=10, gamma=1, kernel=rbf;, score=-0.002 total time=   0.6s\n",
      "[CV 1/5] END .......C=10, gamma=0.1, kernel=rbf;, score=0.008 total time=   0.6s\n",
      "[CV 2/5] END .......C=10, gamma=0.1, kernel=rbf;, score=0.009 total time=   0.9s\n",
      "[CV 3/5] END .......C=10, gamma=0.1, kernel=rbf;, score=0.002 total time=   0.6s\n",
      "[CV 4/5] END .......C=10, gamma=0.1, kernel=rbf;, score=0.005 total time=   0.6s\n",
      "[CV 5/5] END .......C=10, gamma=0.1, kernel=rbf;, score=0.009 total time=   0.6s\n",
      "[CV 1/5] END ......C=10, gamma=0.01, kernel=rbf;, score=0.025 total time=   0.6s\n",
      "[CV 2/5] END ......C=10, gamma=0.01, kernel=rbf;, score=0.035 total time=   0.6s\n",
      "[CV 3/5] END ......C=10, gamma=0.01, kernel=rbf;, score=0.022 total time=   0.6s\n",
      "[CV 4/5] END ......C=10, gamma=0.01, kernel=rbf;, score=0.051 total time=   0.6s\n",
      "[CV 5/5] END ......C=10, gamma=0.01, kernel=rbf;, score=0.035 total time=   0.6s\n",
      "[CV 1/5] END ....C=10, gamma=0.001, kernel=rbf;, score=-0.083 total time=   0.6s\n",
      "[CV 2/5] END ....C=10, gamma=0.001, kernel=rbf;, score=-0.044 total time=   0.6s\n",
      "[CV 3/5] END ....C=10, gamma=0.001, kernel=rbf;, score=-0.114 total time=   0.6s\n",
      "[CV 4/5] END ....C=10, gamma=0.001, kernel=rbf;, score=-0.015 total time=   0.6s\n",
      "[CV 5/5] END ....C=10, gamma=0.001, kernel=rbf;, score=-0.128 total time=   0.6s\n",
      "[CV 1/5] END ...C=10, gamma=0.0001, kernel=rbf;, score=-0.247 total time=   0.7s\n",
      "[CV 2/5] END ...C=10, gamma=0.0001, kernel=rbf;, score=-0.190 total time=   0.7s\n",
      "[CV 3/5] END ...C=10, gamma=0.0001, kernel=rbf;, score=-0.237 total time=   0.6s\n",
      "[CV 4/5] END ...C=10, gamma=0.0001, kernel=rbf;, score=-0.226 total time=   0.7s\n",
      "[CV 5/5] END ...C=10, gamma=0.0001, kernel=rbf;, score=-0.246 total time=   0.7s\n",
      "[CV 1/5] END ........C=100, gamma=1, kernel=rbf;, score=0.001 total time=   0.6s\n",
      "[CV 2/5] END ........C=100, gamma=1, kernel=rbf;, score=0.000 total time=   0.6s\n",
      "[CV 3/5] END .......C=100, gamma=1, kernel=rbf;, score=-0.000 total time=   0.6s\n",
      "[CV 4/5] END ........C=100, gamma=1, kernel=rbf;, score=0.001 total time=   0.6s\n",
      "[CV 5/5] END .......C=100, gamma=1, kernel=rbf;, score=-0.002 total time=   0.6s\n",
      "[CV 1/5] END ......C=100, gamma=0.1, kernel=rbf;, score=0.008 total time=   0.6s\n",
      "[CV 2/5] END ......C=100, gamma=0.1, kernel=rbf;, score=0.009 total time=   0.6s\n",
      "[CV 3/5] END ......C=100, gamma=0.1, kernel=rbf;, score=0.002 total time=   0.7s\n",
      "[CV 4/5] END ......C=100, gamma=0.1, kernel=rbf;, score=0.005 total time=   0.6s\n",
      "[CV 5/5] END ......C=100, gamma=0.1, kernel=rbf;, score=0.009 total time=   0.6s\n",
      "[CV 1/5] END .....C=100, gamma=0.01, kernel=rbf;, score=0.025 total time=   0.6s\n",
      "[CV 2/5] END .....C=100, gamma=0.01, kernel=rbf;, score=0.035 total time=   0.6s\n",
      "[CV 3/5] END .....C=100, gamma=0.01, kernel=rbf;, score=0.022 total time=   0.6s\n",
      "[CV 4/5] END .....C=100, gamma=0.01, kernel=rbf;, score=0.051 total time=   0.6s\n",
      "[CV 5/5] END .....C=100, gamma=0.01, kernel=rbf;, score=0.035 total time=   0.6s\n",
      "[CV 1/5] END ...C=100, gamma=0.001, kernel=rbf;, score=-0.104 total time=   0.7s\n",
      "[CV 2/5] END ...C=100, gamma=0.001, kernel=rbf;, score=-0.046 total time=   0.7s\n",
      "[CV 3/5] END ...C=100, gamma=0.001, kernel=rbf;, score=-0.131 total time=   0.7s\n",
      "[CV 4/5] END ...C=100, gamma=0.001, kernel=rbf;, score=-0.022 total time=   0.8s\n",
      "[CV 5/5] END ...C=100, gamma=0.001, kernel=rbf;, score=-0.144 total time=   0.7s\n",
      "[CV 1/5] END ..C=100, gamma=0.0001, kernel=rbf;, score=-0.452 total time=   1.3s\n",
      "[CV 2/5] END ..C=100, gamma=0.0001, kernel=rbf;, score=-0.358 total time=   1.3s\n",
      "[CV 3/5] END ..C=100, gamma=0.0001, kernel=rbf;, score=-0.534 total time=   1.3s\n",
      "[CV 4/5] END ..C=100, gamma=0.0001, kernel=rbf;, score=-0.506 total time=   1.3s\n",
      "[CV 5/5] END ..C=100, gamma=0.0001, kernel=rbf;, score=-0.766 total time=   1.3s\n",
      "[CV 1/5] END .......C=1000, gamma=1, kernel=rbf;, score=0.001 total time=   0.6s\n",
      "[CV 2/5] END .......C=1000, gamma=1, kernel=rbf;, score=0.000 total time=   0.6s\n",
      "[CV 3/5] END ......C=1000, gamma=1, kernel=rbf;, score=-0.000 total time=   0.6s\n",
      "[CV 4/5] END .......C=1000, gamma=1, kernel=rbf;, score=0.001 total time=   0.6s\n",
      "[CV 5/5] END ......C=1000, gamma=1, kernel=rbf;, score=-0.002 total time=   0.6s\n",
      "[CV 1/5] END .....C=1000, gamma=0.1, kernel=rbf;, score=0.008 total time=   0.6s\n",
      "[CV 2/5] END .....C=1000, gamma=0.1, kernel=rbf;, score=0.009 total time=   0.6s\n",
      "[CV 3/5] END .....C=1000, gamma=0.1, kernel=rbf;, score=0.002 total time=   0.6s\n",
      "[CV 4/5] END .....C=1000, gamma=0.1, kernel=rbf;, score=0.005 total time=   0.6s\n",
      "[CV 5/5] END .....C=1000, gamma=0.1, kernel=rbf;, score=0.009 total time=   0.6s\n",
      "[CV 1/5] END ....C=1000, gamma=0.01, kernel=rbf;, score=0.025 total time=   0.6s\n",
      "[CV 2/5] END ....C=1000, gamma=0.01, kernel=rbf;, score=0.035 total time=   0.6s\n",
      "[CV 3/5] END ....C=1000, gamma=0.01, kernel=rbf;, score=0.022 total time=   0.6s\n",
      "[CV 4/5] END ....C=1000, gamma=0.01, kernel=rbf;, score=0.051 total time=   0.6s\n",
      "[CV 5/5] END ....C=1000, gamma=0.01, kernel=rbf;, score=0.035 total time=   0.6s\n",
      "[CV 1/5] END ..C=1000, gamma=0.001, kernel=rbf;, score=-0.103 total time=   0.7s\n",
      "[CV 2/5] END ..C=1000, gamma=0.001, kernel=rbf;, score=-0.046 total time=   0.7s\n",
      "[CV 3/5] END ..C=1000, gamma=0.001, kernel=rbf;, score=-0.129 total time=   0.7s\n",
      "[CV 4/5] END ..C=1000, gamma=0.001, kernel=rbf;, score=-0.023 total time=   0.7s\n",
      "[CV 5/5] END ..C=1000, gamma=0.001, kernel=rbf;, score=-0.144 total time=   0.7s\n",
      "[CV 1/5] END .C=1000, gamma=0.0001, kernel=rbf;, score=-0.553 total time=   4.0s\n",
      "[CV 2/5] END .C=1000, gamma=0.0001, kernel=rbf;, score=-0.370 total time=   4.7s\n",
      "[CV 3/5] END .C=1000, gamma=0.0001, kernel=rbf;, score=-0.673 total time=   4.2s\n",
      "[CV 4/5] END .C=1000, gamma=0.0001, kernel=rbf;, score=-0.608 total time=   4.2s\n",
      "[CV 5/5] END .C=1000, gamma=0.0001, kernel=rbf;, score=-0.716 total time=   4.5s\n"
     ]
    },
    {
     "data": {
      "text/html": [
       "<style>#sk-container-id-1 {color: black;}#sk-container-id-1 pre{padding: 0;}#sk-container-id-1 div.sk-toggleable {background-color: white;}#sk-container-id-1 label.sk-toggleable__label {cursor: pointer;display: block;width: 100%;margin-bottom: 0;padding: 0.3em;box-sizing: border-box;text-align: center;}#sk-container-id-1 label.sk-toggleable__label-arrow:before {content: \"▸\";float: left;margin-right: 0.25em;color: #696969;}#sk-container-id-1 label.sk-toggleable__label-arrow:hover:before {color: black;}#sk-container-id-1 div.sk-estimator:hover label.sk-toggleable__label-arrow:before {color: black;}#sk-container-id-1 div.sk-toggleable__content {max-height: 0;max-width: 0;overflow: hidden;text-align: left;background-color: #f0f8ff;}#sk-container-id-1 div.sk-toggleable__content pre {margin: 0.2em;color: black;border-radius: 0.25em;background-color: #f0f8ff;}#sk-container-id-1 input.sk-toggleable__control:checked~div.sk-toggleable__content {max-height: 200px;max-width: 100%;overflow: auto;}#sk-container-id-1 input.sk-toggleable__control:checked~label.sk-toggleable__label-arrow:before {content: \"▾\";}#sk-container-id-1 div.sk-estimator input.sk-toggleable__control:checked~label.sk-toggleable__label {background-color: #d4ebff;}#sk-container-id-1 div.sk-label input.sk-toggleable__control:checked~label.sk-toggleable__label {background-color: #d4ebff;}#sk-container-id-1 input.sk-hidden--visually {border: 0;clip: rect(1px 1px 1px 1px);clip: rect(1px, 1px, 1px, 1px);height: 1px;margin: -1px;overflow: hidden;padding: 0;position: absolute;width: 1px;}#sk-container-id-1 div.sk-estimator {font-family: monospace;background-color: #f0f8ff;border: 1px dotted black;border-radius: 0.25em;box-sizing: border-box;margin-bottom: 0.5em;}#sk-container-id-1 div.sk-estimator:hover {background-color: #d4ebff;}#sk-container-id-1 div.sk-parallel-item::after {content: \"\";width: 100%;border-bottom: 1px solid gray;flex-grow: 1;}#sk-container-id-1 div.sk-label:hover label.sk-toggleable__label {background-color: #d4ebff;}#sk-container-id-1 div.sk-serial::before {content: \"\";position: absolute;border-left: 1px solid gray;box-sizing: border-box;top: 0;bottom: 0;left: 50%;z-index: 0;}#sk-container-id-1 div.sk-serial {display: flex;flex-direction: column;align-items: center;background-color: white;padding-right: 0.2em;padding-left: 0.2em;position: relative;}#sk-container-id-1 div.sk-item {position: relative;z-index: 1;}#sk-container-id-1 div.sk-parallel {display: flex;align-items: stretch;justify-content: center;background-color: white;position: relative;}#sk-container-id-1 div.sk-item::before, #sk-container-id-1 div.sk-parallel-item::before {content: \"\";position: absolute;border-left: 1px solid gray;box-sizing: border-box;top: 0;bottom: 0;left: 50%;z-index: -1;}#sk-container-id-1 div.sk-parallel-item {display: flex;flex-direction: column;z-index: 1;position: relative;background-color: white;}#sk-container-id-1 div.sk-parallel-item:first-child::after {align-self: flex-end;width: 50%;}#sk-container-id-1 div.sk-parallel-item:last-child::after {align-self: flex-start;width: 50%;}#sk-container-id-1 div.sk-parallel-item:only-child::after {width: 0;}#sk-container-id-1 div.sk-dashed-wrapped {border: 1px dashed gray;margin: 0 0.4em 0.5em 0.4em;box-sizing: border-box;padding-bottom: 0.4em;background-color: white;}#sk-container-id-1 div.sk-label label {font-family: monospace;font-weight: bold;display: inline-block;line-height: 1.2em;}#sk-container-id-1 div.sk-label-container {text-align: center;}#sk-container-id-1 div.sk-container {/* jupyter's `normalize.less` sets `[hidden] { display: none; }` but bootstrap.min.css set `[hidden] { display: none !important; }` so we also need the `!important` here to be able to override the default hidden behavior on the sphinx rendered scikit-learn.org. See: https://github.com/scikit-learn/scikit-learn/issues/21755 */display: inline-block !important;position: relative;}#sk-container-id-1 div.sk-text-repr-fallback {display: none;}</style><div id=\"sk-container-id-1\" class=\"sk-top-container\"><div class=\"sk-text-repr-fallback\"><pre>GridSearchCV(estimator=SVR(),\n",
       "             param_grid={&#x27;C&#x27;: [0.1, 1, 10, 100, 1000],\n",
       "                         &#x27;gamma&#x27;: [1, 0.1, 0.01, 0.001, 0.0001],\n",
       "                         &#x27;kernel&#x27;: [&#x27;rbf&#x27;]},\n",
       "             refit=&#x27;True&#x27;, verbose=3)</pre><b>In a Jupyter environment, please rerun this cell to show the HTML representation or trust the notebook. <br />On GitHub, the HTML representation is unable to render, please try loading this page with nbviewer.org.</b></div><div class=\"sk-container\" hidden><div class=\"sk-item sk-dashed-wrapped\"><div class=\"sk-label-container\"><div class=\"sk-label sk-toggleable\"><input class=\"sk-toggleable__control sk-hidden--visually\" id=\"sk-estimator-id-1\" type=\"checkbox\" ><label for=\"sk-estimator-id-1\" class=\"sk-toggleable__label sk-toggleable__label-arrow\">GridSearchCV</label><div class=\"sk-toggleable__content\"><pre>GridSearchCV(estimator=SVR(),\n",
       "             param_grid={&#x27;C&#x27;: [0.1, 1, 10, 100, 1000],\n",
       "                         &#x27;gamma&#x27;: [1, 0.1, 0.01, 0.001, 0.0001],\n",
       "                         &#x27;kernel&#x27;: [&#x27;rbf&#x27;]},\n",
       "             refit=&#x27;True&#x27;, verbose=3)</pre></div></div></div><div class=\"sk-parallel\"><div class=\"sk-parallel-item\"><div class=\"sk-item\"><div class=\"sk-label-container\"><div class=\"sk-label sk-toggleable\"><input class=\"sk-toggleable__control sk-hidden--visually\" id=\"sk-estimator-id-2\" type=\"checkbox\" ><label for=\"sk-estimator-id-2\" class=\"sk-toggleable__label sk-toggleable__label-arrow\">estimator: SVR</label><div class=\"sk-toggleable__content\"><pre>SVR()</pre></div></div></div><div class=\"sk-serial\"><div class=\"sk-item\"><div class=\"sk-estimator sk-toggleable\"><input class=\"sk-toggleable__control sk-hidden--visually\" id=\"sk-estimator-id-3\" type=\"checkbox\" ><label for=\"sk-estimator-id-3\" class=\"sk-toggleable__label sk-toggleable__label-arrow\">SVR</label><div class=\"sk-toggleable__content\"><pre>SVR()</pre></div></div></div></div></div></div></div></div></div></div>"
      ],
      "text/plain": [
       "GridSearchCV(estimator=SVR(),\n",
       "             param_grid={'C': [0.1, 1, 10, 100, 1000],\n",
       "                         'gamma': [1, 0.1, 0.01, 0.001, 0.0001],\n",
       "                         'kernel': ['rbf']},\n",
       "             refit='True', verbose=3)"
      ]
     },
     "execution_count": 20,
     "metadata": {},
     "output_type": "execute_result"
    }
   ],
   "source": [
    "from sklearn.model_selection import GridSearchCV\n",
    "from sklearn.svm import SVR\n",
    "\n",
    "sv=SVR()\n",
    "\n",
    "param_grid={'C':[0.1,1,10,100,1000],\n",
    "        'gamma':[1,.1,.01,.001,.0001],\n",
    "         'kernel':['rbf'] }\n",
    "\n",
    "grid=GridSearchCV(SVR(),param_grid,refit='True',verbose=3)\n",
    "grid.fit(x_train,y_train)\n"
   ]
  },
  {
   "cell_type": "code",
   "execution_count": 21,
   "metadata": {},
   "outputs": [],
   "source": [
    "sv=SVR(C=10,gamma=0.01,kernel='rbf')\n",
    "sv.fit(x_train,y_train)\n",
    "svr_pred=sv.predict(x_test)"
   ]
  }
 ],
 "metadata": {
  "kernelspec": {
   "display_name": "Python 3",
   "language": "python",
   "name": "python3"
  },
  "language_info": {
   "codemirror_mode": {
    "name": "ipython",
    "version": 3
   },
   "file_extension": ".py",
   "mimetype": "text/x-python",
   "name": "python",
   "nbconvert_exporter": "python",
   "pygments_lexer": "ipython3",
   "version": "3.11.5"
  }
 },
 "nbformat": 4,
 "nbformat_minor": 2
}
